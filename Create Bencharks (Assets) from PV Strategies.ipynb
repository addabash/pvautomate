{
 "cells": [
  {
   "cell_type": "code",
   "execution_count": 13,
   "metadata": {},
   "outputs": [],
   "source": [
    "from selenium import webdriver\n",
    "import pandas as pd\n",
    "import datetime, time, csv\n",
    "import gspread\n",
    "from bs4 import BeautifulSoup"
   ]
  },
  {
   "cell_type": "code",
   "execution_count": 2,
   "metadata": {},
   "outputs": [],
   "source": [
    "def get_header_columns(header):\n",
    "    \n",
    "    '''\n",
    "    PortfolioVisualizer Import Benchmark. \n",
    "    To generate a list of columns from the webpage HTML file from \n",
    "    a table, in order to create a Pandas DataFrame.\n",
    "\n",
    "    '''\n",
    "    \n",
    "    soup = BeautifulSoup(header, 'html.parser')\n",
    "\n",
    "    columns = []\n",
    "    initials = []\n",
    "    index = 0\n",
    "    for row in soup.findAll('th'):\n",
    "    #     print(row)\n",
    "    #     print(row.attrs)\n",
    "        if 'scope' in row.attrs:\n",
    "            if 'colspan' in row.attrs:\n",
    "    #             print('colspan', row['class'], get_initials(row.text.split(' ')))\n",
    "                initials.append(get_initials(row.text.split(' ')))\n",
    "            else:\n",
    "                columns.append(row.text)\n",
    "        if 'class' in row.attrs and 'group-start' in row['class']:\n",
    "    #         print (initials[index], row.text)\n",
    "            columns.append(initials[index]+'_'+row.text)\n",
    "\n",
    "        if 'class' in row.attrs and 'group-end' in row['class']:\n",
    "    #         print (initials[index], row.text)\n",
    "            columns.append(initials[index]+'_'+row.text)\n",
    "            index += 1\n",
    "        \n",
    "    return columns"
   ]
  },
  {
   "cell_type": "code",
   "execution_count": 3,
   "metadata": {},
   "outputs": [],
   "source": [
    "def get_initials(string_list=[]):\n",
    "    return \"\".join(item[0].upper() for item in string_list)"
   ]
  },
  {
   "cell_type": "markdown",
   "metadata": {
    "scrolled": true
   },
   "source": [
    "##### get PV name and password\n",
    "\n",
    "import getpass\n",
    "\n",
    "PVNAME = getpass.getpass(\"Username:\")\n",
    "print (PVNAME)\n",
    "PVPASSWD = getpass.getpass(\"Password for \" + PVNAME + \":\")"
   ]
  },
  {
   "cell_type": "markdown",
   "metadata": {},
   "source": [
    "# Create Benchmarks"
   ]
  },
  {
   "cell_type": "code",
   "execution_count": 11,
   "metadata": {},
   "outputs": [],
   "source": [
    "# login to PV\n",
    "\n",
    "browser = webdriver.Chrome(executable_path=\"/usr/lib/chromium-browser/chromedriver\",\n",
    "                           service_args=[\"--verbose\", \"--log-path=~\\Downloads\\qc1.log\"])\n",
    "# browser.set_window_position(-1138,1))\n",
    "# browser = webdriver.Chrome(executable_path=\"D:\\\\chromedriver.exe\", service_args=[\"--verbose\", \"--log-path=~\\Downloads\\qc1.log\"])\n",
    "# browser.set_window_position(-1138,1)\n",
    "browser.set_window_size(1038, 875)\n",
    "# browser.fullscreen_window()\n",
    "browser.get('https://www.portfoliovisualizer.com/login')\n",
    "time.sleep(2)\n",
    "user = browser.find_element_by_id('username')\n",
    "user.send_keys(PVNAME)\n",
    "password = browser.find_element_by_id('password')\n",
    "password.send_keys(PVPASSWD)\n",
    "time.sleep(2)\n",
    "login = browser.find_element_by_id('submitButton')\n",
    "login.click()"
   ]
  },
  {
   "cell_type": "code",
   "execution_count": 7,
   "metadata": {},
   "outputs": [],
   "source": [
    "# add PV assets and year-end, as necessary\n",
    "\n",
    "assets = {'OOM2000': 'http://bit.ly/2AMTnLO',\n",
    "          'OOM1987' : 'http://bit.ly/2DmKEgW',\n",
    "          'ETFMDBS0': 'http://bit.ly/2iN43TU',\n",
    "          'MDBS00' : 'https://goo.gl/Zzwnhk'} \n",
    "\n",
    "# remember that endYear is 2018 so change if necessary\n",
    "\n",
    "endYear = '2018'"
   ]
  },
  {
   "cell_type": "code",
   "execution_count": 12,
   "metadata": {},
   "outputs": [
    {
     "name": "stdout",
     "output_type": "stream",
     "text": [
      "OOM1987 http://bit.ly/2DmKEgW\n",
      "Benchmark series 'OOM1987.csv' imported.\n",
      "MDBS00 https://goo.gl/Zzwnhk\n",
      "Benchmark series 'MDBS00.csv' imported.\n",
      "ETFMDBS0 http://bit.ly/2iN43TU\n",
      "Failed to process the uploaded file: The benchmark requires at least 10 full years of data for use as an asset class\n",
      "OOM2000 http://bit.ly/2AMTnLO\n",
      "Benchmark series 'OOM2000.csv' imported.\n"
     ]
    }
   ],
   "source": [
    "for no,asset in enumerate(assets.keys()):\n",
    "    print(asset, assets[asset])   \n",
    "    browser.get(assets[asset])\n",
    "    browser.find_element_by_id('endYear').clear()\n",
    "    browser.find_element_by_id('endYear').send_keys(endYear)\n",
    "    browser.find_element_by_id('submitButton').click()\n",
    "    browser.find_element_by_xpath('//*[@id=\"tabs\"]/li[4]/a').click()  \n",
    "    \n",
    "    monthly_returns = browser.find_element_by_css_selector('#monthlyReturns').text\n",
    "    results = monthly_returns.splitlines()\n",
    "\n",
    "    data = [results[3:][i].split(sep=' ') for i in range(len(results[3:]))]\n",
    "       \n",
    "    # find table header\n",
    "    elem = browser.find_element_by_xpath('//*[@id=\"monthlyReturns\"]/div/table/thead')\n",
    "    header = elem.get_property('outerHTML')\n",
    "    \n",
    "    returns = pd.DataFrame(data, columns=get_header_columns(header), index=None)\n",
    "    returns.Month = [returns.Month.astype(str)[i].zfill(2) for i in range(len(returns))]   \n",
    "    returns.to_csv('~/Downloads/' + asset + '.csv', index=None)\n",
    "    \n",
    "    returns.loc[:,'Period'] = returns.Year.astype(str)+\"/\"+returns.Month\n",
    "    \n",
    "    df = pd.DataFrame( {'Period': returns['Period'], 'Return': returns['TP_Return']}, index=None)\n",
    "    df.to_csv('~/Downloads/' + asset + '.csv', index=None)\n",
    "    \n",
    "    data_path = '/home/ubuntu/Downloads/'\n",
    "    symbol = asset\n",
    "    \n",
    "    browser.get('https://www.portfoliovisualizer.com/preferences#import')\n",
    "    \n",
    "    browser.find_element_by_id(\"benchmarkName\").clear()\n",
    "    browser.find_element_by_id(\"benchmarkName\").send_keys(asset+'.csv')\n",
    "\n",
    "    browser.find_element_by_id(\"upload\").clear()\n",
    "    browser.find_element_by_id(\"upload\").send_keys(data_path + symbol +'.csv')\n",
    "\n",
    "    browser.find_element_by_id('percentageValues_chosen').click()\n",
    "    browser.find_element_by_xpath('//*[@id=\"percentageValues_chosen\"]/div/ul/li[2]').click()\n",
    "\n",
    "    browser.find_element_by_id(\"benchmarkSymbol\").clear()\n",
    "    browser.find_element_by_id(\"benchmarkSymbol\").send_keys(symbol)\n",
    "    browser.find_element_by_id('benchmarkAssetClass_chosen').click()\n",
    "\n",
    "    browser.find_element_by_css_selector('#benchmarkAssetClass_chosen > div > ul > li:nth-child(2)').click()\n",
    "\n",
    "    browser.implicitly_wait(90)\n",
    "    browser.find_element_by_id(\"importBenchmarkButton\").click()\n",
    "    \n",
    "    print(browser.find_element_by_class_name(\"alert\").text)\n",
    "\n",
    "    browser.execute_script(\"window.history.go(-1)\")\n",
    "    time.sleep(2)\n",
    "    \n",
    "browser.close()"
   ]
  },
  {
   "cell_type": "code",
   "execution_count": 162,
   "metadata": {},
   "outputs": [],
   "source": []
  },
  {
   "cell_type": "code",
   "execution_count": 163,
   "metadata": {},
   "outputs": [],
   "source": []
  },
  {
   "cell_type": "code",
   "execution_count": 164,
   "metadata": {},
   "outputs": [],
   "source": []
  },
  {
   "cell_type": "code",
   "execution_count": 165,
   "metadata": {},
   "outputs": [],
   "source": []
  },
  {
   "cell_type": "code",
   "execution_count": 166,
   "metadata": {},
   "outputs": [],
   "source": []
  }
 ],
 "metadata": {
  "kernelspec": {
   "display_name": "Python 3",
   "language": "python",
   "name": "python3"
  },
  "language_info": {
   "codemirror_mode": {
    "name": "ipython",
    "version": 3
   },
   "file_extension": ".py",
   "mimetype": "text/x-python",
   "name": "python",
   "nbconvert_exporter": "python",
   "pygments_lexer": "ipython3",
   "version": "3.5.5"
  }
 },
 "nbformat": 4,
 "nbformat_minor": 2
}
