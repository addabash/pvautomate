{
 "cells": [
  {
   "cell_type": "code",
   "execution_count": 4,
   "metadata": {},
   "outputs": [],
   "source": [
    "import os\n",
    "from selenium import webdriver\n",
    "import pandas as pd\n",
    "import datetime, time, csv\n",
    "import gspread\n",
    "from bs4 import BeautifulSoup"
   ]
  },
  {
   "cell_type": "code",
   "execution_count": 2,
   "metadata": {},
   "outputs": [],
   "source": [
    "def get_header_columns(header):\n",
    "    \n",
    "    '''\n",
    "    PortfolioVisualizer Import Benchmark. \n",
    "    To generate a list of columns from the webpage HTML file from \n",
    "    a table, in order to create a Pandas DataFrame.\n",
    "\n",
    "    '''\n",
    "    \n",
    "    soup = BeautifulSoup(header, 'html.parser')\n",
    "\n",
    "    columns = []\n",
    "    initials = []\n",
    "    index = 0\n",
    "    for row in soup.findAll('th'):\n",
    "    #     print(row)\n",
    "    #     print(row.attrs)\n",
    "        if 'scope' in row.attrs:\n",
    "            if 'colspan' in row.attrs:\n",
    "    #             print('colspan', row['class'], get_initials(row.text.split(' ')))\n",
    "                initials.append(get_initials(row.text.split(' ')))\n",
    "            else:\n",
    "                columns.append(row.text)\n",
    "        if 'class' in row.attrs and 'group-start' in row['class']:\n",
    "    #         print (initials[index], row.text)\n",
    "            columns.append(initials[index]+'_'+row.text)\n",
    "\n",
    "        if 'class' in row.attrs and 'group-end' in row['class']:\n",
    "    #         print (initials[index], row.text)\n",
    "            columns.append(initials[index]+'_'+row.text)\n",
    "            index += 1\n",
    "        \n",
    "    return columns"
   ]
  },
  {
   "cell_type": "code",
   "execution_count": 3,
   "metadata": {},
   "outputs": [],
   "source": [
    "def get_initials(string_list=[]):\n",
    "    return \"\".join(item[0].upper() for item in string_list)"
   ]
  },
  {
   "cell_type": "markdown",
   "metadata": {
    "scrolled": true
   },
   "source": [
    "##### get PV name and password\n",
    "\n",
    "import getpass\n",
    "\n",
    "PVNAME = getpass.getpass(\"Username:\")\n",
    "print (PVNAME)\n",
    "PVPASSWD = getpass.getpass(\"Password for \" + PVNAME + \":\")"
   ]
  },
  {
   "cell_type": "markdown",
   "metadata": {},
   "source": [
    "# Create Benchmarks"
   ]
  },
  {
   "cell_type": "code",
   "execution_count": 5,
   "metadata": {},
   "outputs": [],
   "source": [
    "# login to PV\n",
    "\n",
    "browser = webdriver.Chrome(executable_path=\"/usr/lib/chromium-browser/chromedriver\",\n",
    "                           service_args=[\"--verbose\", \"--log-path=~\\Downloads\\qc1.log\"])\n",
    "# browser.set_window_position(-1138,1))\n",
    "# browser = webdriver.Chrome(executable_path=\"D:\\\\chromedriver.exe\", service_args=[\"--verbose\", \"--log-path=~\\Downloads\\qc1.log\"])\n",
    "browser.set_window_position(1,1)\n",
    "# browser.set_window_size(1038, 875)\n",
    "browser.fullscreen_window()\n",
    "browser.get('https://www.portfoliovisualizer.com/login')\n",
    "time.sleep(2)\n",
    "user = browser.find_element_by_id('username')\n",
    "user.send_keys(os.environ.get('PVNAME'))\n",
    "password = browser.find_element_by_id('password')\n",
    "password.send_keys(os.environ.get('PVPASSWD'))\n",
    "time.sleep(2)\n",
    "login = browser.find_element_by_id('submitButton')\n",
    "login.click()"
   ]
  },
  {
   "cell_type": "code",
   "execution_count": 6,
   "metadata": {},
   "outputs": [],
   "source": [
    "# add PV assets and year-end, as necessary\n",
    "\n",
    "assets = {'OOM2000': 'http://bit.ly/2AMTnLO',\n",
    "          'OOM1987' : 'http://bit.ly/2DmKEgW',\n",
    "          'ETFMDBS0': 'http://bit.ly/2iN43TU',\n",
    "          'MDBS00' : 'https://goo.gl/Zzwnhk'} \n",
    "\n",
    "# remember that endYear is 2018 so change if necessary\n",
    "\n",
    "endYear = '2018'"
   ]
  },
  {
   "cell_type": "code",
   "execution_count": 13,
   "metadata": {},
   "outputs": [
    {
     "data": {
      "text/plain": [
       "Index(['Year', 'Month', 'Oppenheimer Senior Floating Rate A (OOSAX)',\n",
       "       'Vanguard High-Yield Tax-Exempt (VWAHX)', 'Vanguard GNMA Inv (VFIIX)',\n",
       "       'Cash (CASHX)', 'R_Timing Portfolio', 'R_Equal Weight Portfolio',\n",
       "       'B_Timing Portfolio', 'B_Equal Weight Portfolio', 'Period'],\n",
       "      dtype='object')"
      ]
     },
     "execution_count": 13,
     "metadata": {},
     "output_type": "execute_result"
    }
   ],
   "source": [
    "returns.columns"
   ]
  },
  {
   "cell_type": "code",
   "execution_count": 12,
   "metadata": {},
   "outputs": [
    {
     "data": {
      "text/html": [
       "<div>\n",
       "<style scoped>\n",
       "    .dataframe tbody tr th:only-of-type {\n",
       "        vertical-align: middle;\n",
       "    }\n",
       "\n",
       "    .dataframe tbody tr th {\n",
       "        vertical-align: top;\n",
       "    }\n",
       "\n",
       "    .dataframe thead th {\n",
       "        text-align: right;\n",
       "    }\n",
       "</style>\n",
       "<table border=\"1\" class=\"dataframe\">\n",
       "  <thead>\n",
       "    <tr style=\"text-align: right;\">\n",
       "      <th></th>\n",
       "      <th>Year</th>\n",
       "      <th>Month</th>\n",
       "      <th>Oppenheimer Senior Floating Rate A (OOSAX)</th>\n",
       "      <th>Vanguard High-Yield Tax-Exempt (VWAHX)</th>\n",
       "      <th>Vanguard GNMA Inv (VFIIX)</th>\n",
       "      <th>Cash (CASHX)</th>\n",
       "      <th>R_Timing Portfolio</th>\n",
       "      <th>R_Equal Weight Portfolio</th>\n",
       "      <th>B_Timing Portfolio</th>\n",
       "      <th>B_Equal Weight Portfolio</th>\n",
       "      <th>Period</th>\n",
       "    </tr>\n",
       "  </thead>\n",
       "  <tbody>\n",
       "    <tr>\n",
       "      <th>0</th>\n",
       "      <td>2000</td>\n",
       "      <td>01</td>\n",
       "      <td>0.67%</td>\n",
       "      <td>-0.49%</td>\n",
       "      <td>$10,067</td>\n",
       "      <td>$9,951</td>\n",
       "      <td>0.67%</td>\n",
       "      <td>-1.20%</td>\n",
       "      <td>-0.95%</td>\n",
       "      <td>0.41%</td>\n",
       "      <td>2000/01</td>\n",
       "    </tr>\n",
       "    <tr>\n",
       "      <th>1</th>\n",
       "      <td>2000</td>\n",
       "      <td>02</td>\n",
       "      <td>0.87%</td>\n",
       "      <td>1.25%</td>\n",
       "      <td>$10,154</td>\n",
       "      <td>$10,075</td>\n",
       "      <td>0.87%</td>\n",
       "      <td>1.49%</td>\n",
       "      <td>1.41%</td>\n",
       "      <td>0.43%</td>\n",
       "      <td>2000/02</td>\n",
       "    </tr>\n",
       "    <tr>\n",
       "      <th>2</th>\n",
       "      <td>2000</td>\n",
       "      <td>03</td>\n",
       "      <td>1.70%</td>\n",
       "      <td>1.36%</td>\n",
       "      <td>$10,327</td>\n",
       "      <td>$10,213</td>\n",
       "      <td>0.09%</td>\n",
       "      <td>2.31%</td>\n",
       "      <td>1.70%</td>\n",
       "      <td>0.47%</td>\n",
       "      <td>2000/03</td>\n",
       "    </tr>\n",
       "    <tr>\n",
       "      <th>3</th>\n",
       "      <td>2000</td>\n",
       "      <td>04</td>\n",
       "      <td>-0.51%</td>\n",
       "      <td>-0.10%</td>\n",
       "      <td>$10,274</td>\n",
       "      <td>$10,203</td>\n",
       "      <td>0.36%</td>\n",
       "      <td>-0.51%</td>\n",
       "      <td>-0.13%</td>\n",
       "      <td>0.46%</td>\n",
       "      <td>2000/04</td>\n",
       "    </tr>\n",
       "    <tr>\n",
       "      <th>4</th>\n",
       "      <td>2000</td>\n",
       "      <td>05</td>\n",
       "      <td>0.85%</td>\n",
       "      <td>0.18%</td>\n",
       "      <td>$10,361</td>\n",
       "      <td>$10,221</td>\n",
       "      <td>0.85%</td>\n",
       "      <td>-0.69%</td>\n",
       "      <td>0.38%</td>\n",
       "      <td>0.50%</td>\n",
       "      <td>2000/05</td>\n",
       "    </tr>\n",
       "  </tbody>\n",
       "</table>\n",
       "</div>"
      ],
      "text/plain": [
       "   Year Month Oppenheimer Senior Floating Rate A (OOSAX)  \\\n",
       "0  2000    01                                      0.67%   \n",
       "1  2000    02                                      0.87%   \n",
       "2  2000    03                                      1.70%   \n",
       "3  2000    04                                     -0.51%   \n",
       "4  2000    05                                      0.85%   \n",
       "\n",
       "  Vanguard High-Yield Tax-Exempt (VWAHX) Vanguard GNMA Inv (VFIIX)  \\\n",
       "0                                 -0.49%                   $10,067   \n",
       "1                                  1.25%                   $10,154   \n",
       "2                                  1.36%                   $10,327   \n",
       "3                                 -0.10%                   $10,274   \n",
       "4                                  0.18%                   $10,361   \n",
       "\n",
       "  Cash (CASHX) R_Timing Portfolio R_Equal Weight Portfolio B_Timing Portfolio  \\\n",
       "0       $9,951              0.67%                   -1.20%             -0.95%   \n",
       "1      $10,075              0.87%                    1.49%              1.41%   \n",
       "2      $10,213              0.09%                    2.31%              1.70%   \n",
       "3      $10,203              0.36%                   -0.51%             -0.13%   \n",
       "4      $10,221              0.85%                   -0.69%              0.38%   \n",
       "\n",
       "  B_Equal Weight Portfolio   Period  \n",
       "0                    0.41%  2000/01  \n",
       "1                    0.43%  2000/02  \n",
       "2                    0.47%  2000/03  \n",
       "3                    0.46%  2000/04  \n",
       "4                    0.50%  2000/05  "
      ]
     },
     "execution_count": 12,
     "metadata": {},
     "output_type": "execute_result"
    }
   ],
   "source": [
    "returns[:5]"
   ]
  },
  {
   "cell_type": "code",
   "execution_count": 15,
   "metadata": {},
   "outputs": [
    {
     "name": "stdout",
     "output_type": "stream",
     "text": [
      "OOM2000 http://bit.ly/2AMTnLO\n",
      "Benchmark series 'OOM2000.csv' imported.\n",
      "OOM1987 http://bit.ly/2DmKEgW\n",
      "Benchmark series 'OOM1987.csv' imported.\n",
      "ETFMDBS0 http://bit.ly/2iN43TU\n",
      "Failed to process the uploaded file: The benchmark requires at least 10 full years of data for use as an asset class\n",
      "MDBS00 https://goo.gl/Zzwnhk\n",
      "Benchmark series 'MDBS00.csv' imported.\n"
     ]
    }
   ],
   "source": [
    "for no,asset in enumerate(assets.keys()):\n",
    "    print(asset, assets[asset])   \n",
    "    browser.get(assets[asset])\n",
    "    browser.find_element_by_id('endYear').clear()\n",
    "    browser.find_element_by_id('endYear').send_keys(endYear)\n",
    "    browser.find_element_by_id('submitButton').click()\n",
    "    browser.find_element_by_xpath('//*[@id=\"tabs\"]/li[4]/a').click()  \n",
    "    \n",
    "    monthly_returns = browser.find_element_by_css_selector('#monthlyReturns').text\n",
    "    results = monthly_returns.splitlines()\n",
    "\n",
    "    data = [results[3:][i].split(sep=' ') for i in range(len(results[3:]))]\n",
    "       \n",
    "    # find table header\n",
    "    elem = browser.find_element_by_xpath('//*[@id=\"monthlyReturns\"]/div/table/thead')\n",
    "    header = elem.get_property('outerHTML')\n",
    "    \n",
    "    returns = pd.DataFrame(data, columns=get_header_columns(header), index=None)\n",
    "    returns.Month = [returns.Month.astype(str)[i].zfill(2) for i in range(len(returns))]   \n",
    "    returns.to_csv('~/Downloads/' + asset + '.csv', index=None)\n",
    "    \n",
    "    returns.loc[:,'Period'] = returns.Year.astype(str)+\"/\"+returns.Month\n",
    "    \n",
    "    df = pd.DataFrame( {'Period': returns['Period'], 'Return': returns['R_Timing Portfolio']}, index=None)\n",
    "    df.to_csv('~/Downloads/' + asset + '.csv', index=None)\n",
    "    \n",
    "    data_path = '/home/scubamut/Downloads/'\n",
    "    symbol = asset\n",
    "    \n",
    "    browser.get('https://www.portfoliovisualizer.com/preferences#import')\n",
    "    \n",
    "    browser.find_element_by_id(\"benchmarkName\").clear()\n",
    "    browser.find_element_by_id(\"benchmarkName\").send_keys(asset+'.csv')\n",
    "\n",
    "    browser.find_element_by_id(\"upload\").clear()\n",
    "    browser.find_element_by_id(\"upload\").send_keys(data_path + symbol +'.csv')\n",
    "\n",
    "    browser.find_element_by_id('percentageValues_chosen').click()\n",
    "    browser.find_element_by_xpath('//*[@id=\"percentageValues_chosen\"]/div/ul/li[2]').click()\n",
    "\n",
    "    browser.find_element_by_id(\"benchmarkSymbol\").clear()\n",
    "    browser.find_element_by_id(\"benchmarkSymbol\").send_keys(symbol)\n",
    "    browser.find_element_by_id('benchmarkAssetClass_chosen').click()\n",
    "\n",
    "    browser.find_element_by_css_selector('#benchmarkAssetClass_chosen > div > ul > li:nth-child(2)').click()\n",
    "\n",
    "    browser.implicitly_wait(90)\n",
    "    browser.find_element_by_id(\"importBenchmarkButton\").click()\n",
    "    \n",
    "    print(browser.find_element_by_class_name(\"alert\").text)\n",
    "\n",
    "    browser.execute_script(\"window.history.go(-1)\")\n",
    "    time.sleep(2)\n",
    "    \n",
    "browser.close()"
   ]
  },
  {
   "cell_type": "code",
   "execution_count": 162,
   "metadata": {},
   "outputs": [],
   "source": []
  },
  {
   "cell_type": "code",
   "execution_count": 163,
   "metadata": {},
   "outputs": [],
   "source": []
  },
  {
   "cell_type": "code",
   "execution_count": 164,
   "metadata": {},
   "outputs": [],
   "source": []
  },
  {
   "cell_type": "code",
   "execution_count": 165,
   "metadata": {},
   "outputs": [],
   "source": []
  },
  {
   "cell_type": "code",
   "execution_count": 166,
   "metadata": {},
   "outputs": [],
   "source": []
  }
 ],
 "metadata": {
  "kernelspec": {
   "display_name": "Python 3",
   "language": "python",
   "name": "python3"
  },
  "language_info": {
   "codemirror_mode": {
    "name": "ipython",
    "version": 3
   },
   "file_extension": ".py",
   "mimetype": "text/x-python",
   "name": "python",
   "nbconvert_exporter": "python",
   "pygments_lexer": "ipython3",
   "version": "3.6.5"
  }
 },
 "nbformat": 4,
 "nbformat_minor": 2
}
