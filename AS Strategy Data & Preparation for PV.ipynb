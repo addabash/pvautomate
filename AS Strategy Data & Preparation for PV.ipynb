{
 "cells": [
  {
   "cell_type": "markdown",
   "metadata": {},
   "source": [
    "# + Requirements"
   ]
  },
  {
   "cell_type": "markdown",
   "metadata": {},
   "source": [
    "1. List of strategies on AllocateSmartly\n",
    "2. CSVs of each strategy\n",
    "3. Update every month (at rebalance date)\n",
    "4. Import data table for each strategy on PortfolioVisualizer as \"shares\" and benchmarks\n",
    "5. Update strategy (strategy of several strategies)\n",
    "6."
   ]
  },
  {
   "cell_type": "code",
   "execution_count": 3,
   "metadata": {},
   "outputs": [],
   "source": [
    "import os\n",
    "from selenium import webdriver\n",
    "import pandas as pd\n",
    "import datetime, time, csv"
   ]
  },
  {
   "cell_type": "markdown",
   "metadata": {},
   "source": [
    "# Allocate Smartly"
   ]
  },
  {
   "cell_type": "code",
   "execution_count": 4,
   "metadata": {},
   "outputs": [],
   "source": [
    "# prepare Data folders\n",
    "\n",
    "import shutil\n",
    "\n",
    "try:\n",
    "    shutil.rmtree(b'/home/scubamut/projects/pvautomate/Data')\n",
    "except:\n",
    "    pass\n",
    "\n",
    "os.makedirs(b'/home/scubamut/projects/pvautomate/Data')\n",
    "os.makedirs(b'/home/scubamut/projects/pvautomate/Data/strategy_returns')\n",
    "os.makedirs(b'/home/scubamut/projects/pvautomate/Data/benchmark_returns')"
   ]
  },
  {
   "cell_type": "markdown",
   "metadata": {},
   "source": [
    "## Login to allocatesmartly.com and generate CSV files for the Strategies\n"
   ]
  },
  {
   "cell_type": "code",
   "execution_count": 5,
   "metadata": {},
   "outputs": [
    {
     "data": {
      "text/html": [
       "<div>\n",
       "<style scoped>\n",
       "    .dataframe tbody tr th:only-of-type {\n",
       "        vertical-align: middle;\n",
       "    }\n",
       "\n",
       "    .dataframe tbody tr th {\n",
       "        vertical-align: top;\n",
       "    }\n",
       "\n",
       "    .dataframe thead th {\n",
       "        text-align: right;\n",
       "    }\n",
       "</style>\n",
       "<table border=\"1\" class=\"dataframe\">\n",
       "  <thead>\n",
       "    <tr style=\"text-align: right;\">\n",
       "      <th></th>\n",
       "      <th>Strategy</th>\n",
       "      <th>AnnualReturn (20Y)</th>\n",
       "      <th>SharpeRatio (20Y)</th>\n",
       "    </tr>\n",
       "  </thead>\n",
       "  <tbody>\n",
       "    <tr>\n",
       "      <th>38</th>\n",
       "      <td>Davis' Three Way Model</td>\n",
       "      <td>8.7%</td>\n",
       "      <td>0.64</td>\n",
       "    </tr>\n",
       "    <tr>\n",
       "      <th>39</th>\n",
       "      <td>60/40 Benchmark</td>\n",
       "      <td>6.5%</td>\n",
       "      <td>0.54</td>\n",
       "    </tr>\n",
       "    <tr>\n",
       "      <th>40</th>\n",
       "      <td>Faber's Sector Relative Strength (Sector RS)</td>\n",
       "      <td>7.4%</td>\n",
       "      <td>0.47</td>\n",
       "    </tr>\n",
       "    <tr>\n",
       "      <th>41</th>\n",
       "      <td>Faber's Ivy Portfolio</td>\n",
       "      <td>6.9%</td>\n",
       "      <td>0.47</td>\n",
       "    </tr>\n",
       "  </tbody>\n",
       "</table>\n",
       "</div>"
      ],
      "text/plain": [
       "                                        Strategy AnnualReturn (20Y)  \\\n",
       "38                        Davis' Three Way Model               8.7%   \n",
       "39                               60/40 Benchmark               6.5%   \n",
       "40  Faber's Sector Relative Strength (Sector RS)               7.4%   \n",
       "41                         Faber's Ivy Portfolio               6.9%   \n",
       "\n",
       "    SharpeRatio (20Y)  \n",
       "38               0.64  \n",
       "39               0.54  \n",
       "40               0.47  \n",
       "41               0.47  "
      ]
     },
     "execution_count": 5,
     "metadata": {},
     "output_type": "execute_result"
    }
   ],
   "source": [
    "data_path = '/home/scubamut/projects/pvautomate/Data/'\n",
    "\n",
    "browser = webdriver.Chrome(\"/usr/lib/chromium-browser/chromedriver\")\n",
    "# browser = webdriver.Firefox()\n",
    "browser.get('https://allocatesmartly.com/login')\n",
    "browser.set_window_position(1,1)\n",
    "browser.maximize_window()\n",
    "time.sleep(5)\n",
    "user = browser.find_element_by_id('user_login')\n",
    "user.send_keys(os.environ.get('ASNAME'))\n",
    "password = browser.find_element_by_id('user_pass')\n",
    "password.send_keys(os.environ.get('ASPASSWD'))\n",
    "time.sleep(5)\n",
    "login = browser.find_element_by_id('wp-submit')\n",
    "login.click()\n",
    "\n",
    "browser.get('https://allocatesmartly.com/members/strategies/')\n",
    "\n",
    "strategies = pd.read_html(browser.page_source, header=0)[0]\n",
    "strategies = strategies.filter(items=[c for c in strategies.columns][1:-2])\n",
    "# remove Strategy 'Trading ...'\n",
    "strategies.Strategy = strategies.Strategy.apply(lambda x: x[:x.find('Trading')])\n",
    "strategies[38:]"
   ]
  },
  {
   "cell_type": "code",
   "execution_count": 6,
   "metadata": {},
   "outputs": [
    {
     "name": "stdout",
     "output_type": "stream",
     "text": [
      "Adaptive Asset Allocation\n",
      "Protective Asset Allocation\n",
      "Allocate Smartly's Meta Strategy\n",
      "Vigilant Asset Allocation\n",
      "Protective Asset Allocation - CPR\n",
      "Keuning's Generalized Protective Momentum\n",
      "Varadi's Percentile Channels\n",
      "US Risk Parity Trend Following\n",
      "Flexible Asset Allocation\n",
      "Stoken's Active Combined Asset (ACA) - Monthly\n",
      "Classical Asset Allocation - Defensive\n",
      "Stoken's Active Combined Asset (ACA)\n",
      "Efficiente Index\n",
      "Elastic Asset Allocation - Defensive\n",
      "Robust Asset Allocation - Balanced\n",
      "Faber's Global Tactical Asset Alloc. - Agg. 6\n",
      "Elastic Asset Allocation - Offensive\n",
      "Global Risk Parity Trend Following\n",
      "Varadi's Minimum Correlation Portfolio\n",
      "Faber's Trinity Portfolio Lite\n",
      "Antonacci's Composite Dual Momentum\n",
      "Faber's Global Tactical Asset Alloc. 13 (GTAA 13)\n",
      "Faber's Global Tactical Asset Alloc. 5 (GTAA 5)\n",
      "Tactical Permanent Portfolio\n",
      "US Max Diversification\n",
      "Faber's Global Tactical Asset Alloc. - Agg. 3\n",
      "Dalio's All-Weather Portfolio\n",
      "Classical Asset Allocation - Offensive\n",
      "PortfolioCharts' Golden Butterfly\n",
      "US Equal Risk Contribution\n",
      "US Max Sharpe\n",
      "Browne's Permanent Portfolio\n",
      "Antonacci's Global Equities Momentum (GEM)\n",
      "US Min Correlation\n",
      "Robust Asset Allocation - Aggressive\n",
      "Philosophical Economics' Growth-Trend Timing\n",
      "Glenn's Paired Switching Strategy\n",
      "Novell's Tactical Bond Strategy\n",
      "Davis' Three Way Model\n",
      "60/40 Benchmark\n",
      "Faber's Sector Relative Strength (Sector RS)\n",
      "Faber's Ivy Portfolio\n"
     ]
    }
   ],
   "source": [
    "# for each strategy, get monthly table and generate CSV files \n",
    "\n",
    "for s in strategies.Strategy:\n",
    "    print(s)\n",
    "    browser.find_elements_by_link_text(s)[0].click()\n",
    "    browser.find_element_by_id('sx-periodic-table')\n",
    "    table = pd.read_html(browser.page_source, header=1)[2]\n",
    "    table.columns = ['Year','Jan','Feb','Mar','Apr','May','Jun','Jul','Aug','Sep','Oct','Nov','Dec','Total']\n",
    "    # need to change 60/40 to 60_40 for \n",
    "    table.to_csv(data_path + '/strategy_returns/' + s.replace('/','_')+'.csv')\n",
    "    browser.execute_script(\"window.history.go(-1)\")\n",
    "    time.sleep(2)\n",
    "    \n",
    "browser.close()"
   ]
  },
  {
   "cell_type": "code",
   "execution_count": 7,
   "metadata": {},
   "outputs": [],
   "source": [
    "# \n",
    "strats = strategies.copy()\n",
    "strats.to_csv(data_path + 'strats.csv')"
   ]
  },
  {
   "cell_type": "markdown",
   "metadata": {},
   "source": [
    "## Generate symbols (benchmark names) for use by Portfolio Visualizer"
   ]
  },
  {
   "cell_type": "code",
   "execution_count": 8,
   "metadata": {},
   "outputs": [],
   "source": [
    "data_path = '/home/scubamut/projects/pvautomate/Data/'\n",
    "strategies = pd.read_csv(data_path + 'strats.csv')"
   ]
  },
  {
   "cell_type": "code",
   "execution_count": 9,
   "metadata": {},
   "outputs": [
    {
     "data": {
      "text/html": [
       "<div>\n",
       "<style scoped>\n",
       "    .dataframe tbody tr th:only-of-type {\n",
       "        vertical-align: middle;\n",
       "    }\n",
       "\n",
       "    .dataframe tbody tr th {\n",
       "        vertical-align: top;\n",
       "    }\n",
       "\n",
       "    .dataframe thead th {\n",
       "        text-align: right;\n",
       "    }\n",
       "</style>\n",
       "<table border=\"1\" class=\"dataframe\">\n",
       "  <thead>\n",
       "    <tr style=\"text-align: right;\">\n",
       "      <th></th>\n",
       "      <th>Strategy</th>\n",
       "      <th>Stratnames</th>\n",
       "      <th>Symbol</th>\n",
       "      <th>AnnualReturn (20Y)</th>\n",
       "      <th>SharpeRatio (20Y)</th>\n",
       "    </tr>\n",
       "  </thead>\n",
       "  <tbody>\n",
       "    <tr>\n",
       "      <th>38</th>\n",
       "      <td>Davis' Three Way Model</td>\n",
       "      <td>Three Way Model</td>\n",
       "      <td>TWM000</td>\n",
       "      <td>8.7%</td>\n",
       "      <td>0.64</td>\n",
       "    </tr>\n",
       "    <tr>\n",
       "      <th>39</th>\n",
       "      <td>60_40 Benchmark</td>\n",
       "      <td>B6040 Benchmark</td>\n",
       "      <td>BB6040</td>\n",
       "      <td>6.5%</td>\n",
       "      <td>0.54</td>\n",
       "    </tr>\n",
       "    <tr>\n",
       "      <th>40</th>\n",
       "      <td>Faber's Sector Relative Strength (Sector RS)</td>\n",
       "      <td>Sector Relative Strength</td>\n",
       "      <td>SRS000</td>\n",
       "      <td>7.4%</td>\n",
       "      <td>0.47</td>\n",
       "    </tr>\n",
       "    <tr>\n",
       "      <th>41</th>\n",
       "      <td>Faber's Ivy Portfolio</td>\n",
       "      <td>Ivy Portfolio</td>\n",
       "      <td>IP0000</td>\n",
       "      <td>6.9%</td>\n",
       "      <td>0.47</td>\n",
       "    </tr>\n",
       "  </tbody>\n",
       "</table>\n",
       "</div>"
      ],
      "text/plain": [
       "                                        Strategy                  Stratnames  \\\n",
       "38                        Davis' Three Way Model             Three Way Model   \n",
       "39                               60_40 Benchmark             B6040 Benchmark   \n",
       "40  Faber's Sector Relative Strength (Sector RS)   Sector Relative Strength    \n",
       "41                         Faber's Ivy Portfolio               Ivy Portfolio   \n",
       "\n",
       "    Symbol AnnualReturn (20Y)  SharpeRatio (20Y)  \n",
       "38  TWM000               8.7%               0.64  \n",
       "39  BB6040               6.5%               0.54  \n",
       "40  SRS000               7.4%               0.47  \n",
       "41  IP0000               6.9%               0.47  "
      ]
     },
     "execution_count": 9,
     "metadata": {},
     "output_type": "execute_result"
    }
   ],
   "source": [
    "#  new Stratnames column and remove brackets\n",
    "strategies['Stratnames'] = pd.Series(strategies.Strategy).str.replace(r\"\\(.*\\)\",\"\")\n",
    "# rename 60/40 Benchmark to B6040 Benchmark\n",
    "strategies['Stratnames'] = strategies.Stratnames.str.replace('40', 'B6040')\n",
    "# remove developer from name\n",
    "strategies['Stratnames'] = strategies.Stratnames.str.replace(\"/('\\w+)|(\\w+'\\w+)|(\\w+')|(\\w+)/\", \"\")\n",
    "# new column for Developers\n",
    "strategies['Developer'] = strategies.Strategy.str.extract(\"/('\\w+)|(\\w+'\\w+)|(\\w+')|(\\w+)/\", expand=True)[1]\n",
    "# create unique name >= 6 characters for Portfolio Visualizer Bencmarks\n",
    "strategies['Name'] = [''.join([c for c in s if c.isupper()]) for s in strategies.Stratnames]\n",
    "strategies['Numbers'] = strategies.Stratnames.str.extract('(\\d+)', expand=True).fillna('')\n",
    "strategies['Symbol'] = strategies['Name'] + strategies['Numbers']\n",
    "# # append 0s so that Share Name is at least 6 characters\n",
    "strategies['Symbol'] = [s+'00000'[:6-len(s)]for s in strategies.Symbol]\n",
    "strategies['Symbol'] = strategies['Symbol'].str.replace('4000', 'B6040')\n",
    "strategies = strategies.filter(items=['Strategy', 'Stratnames', 'Symbol', 'AnnualReturn (20Y)', 'SharpeRatio (20Y)'])\n",
    "strategies['Strategy'] = strategies['Strategy'].str.replace('/','_')\n",
    "strategies[38:]"
   ]
  },
  {
   "cell_type": "code",
   "execution_count": 10,
   "metadata": {},
   "outputs": [
    {
     "data": {
      "text/plain": [
       "True"
      ]
     },
     "execution_count": 10,
     "metadata": {},
     "output_type": "execute_result"
    }
   ],
   "source": [
    "# verfy that all Securities are unique\n",
    "\n",
    "len(strategies) == len(strategies.Symbol.unique())"
   ]
  },
  {
   "cell_type": "code",
   "execution_count": 12,
   "metadata": {},
   "outputs": [
    {
     "data": {
      "text/html": [
       "<div>\n",
       "<style scoped>\n",
       "    .dataframe tbody tr th:only-of-type {\n",
       "        vertical-align: middle;\n",
       "    }\n",
       "\n",
       "    .dataframe tbody tr th {\n",
       "        vertical-align: top;\n",
       "    }\n",
       "\n",
       "    .dataframe thead th {\n",
       "        text-align: right;\n",
       "    }\n",
       "</style>\n",
       "<table border=\"1\" class=\"dataframe\">\n",
       "  <thead>\n",
       "    <tr style=\"text-align: right;\">\n",
       "      <th></th>\n",
       "      <th>Strategy</th>\n",
       "      <th>Stratnames</th>\n",
       "      <th>Symbol</th>\n",
       "      <th>AnnualReturn (20Y)</th>\n",
       "      <th>SharpeRatio (20Y)</th>\n",
       "    </tr>\n",
       "  </thead>\n",
       "  <tbody>\n",
       "    <tr>\n",
       "      <th>0</th>\n",
       "      <td>Adaptive Asset Allocation</td>\n",
       "      <td>Adaptive Asset Allocation</td>\n",
       "      <td>AAA000</td>\n",
       "      <td>13.1%</td>\n",
       "      <td>1.18</td>\n",
       "    </tr>\n",
       "    <tr>\n",
       "      <th>1</th>\n",
       "      <td>Protective Asset Allocation</td>\n",
       "      <td>Protective Asset Allocation</td>\n",
       "      <td>PAA000</td>\n",
       "      <td>10.1%</td>\n",
       "      <td>1.05</td>\n",
       "    </tr>\n",
       "    <tr>\n",
       "      <th>2</th>\n",
       "      <td>Allocate Smartly's Meta Strategy</td>\n",
       "      <td>Allocate  Meta Strategy</td>\n",
       "      <td>AMS000</td>\n",
       "      <td>8.9%</td>\n",
       "      <td>1.05</td>\n",
       "    </tr>\n",
       "    <tr>\n",
       "      <th>3</th>\n",
       "      <td>Vigilant Asset Allocation</td>\n",
       "      <td>Vigilant Asset Allocation</td>\n",
       "      <td>VAA000</td>\n",
       "      <td>14.4%</td>\n",
       "      <td>1.05</td>\n",
       "    </tr>\n",
       "    <tr>\n",
       "      <th>4</th>\n",
       "      <td>Protective Asset Allocation - CPR</td>\n",
       "      <td>Protective Asset Allocation - CPR</td>\n",
       "      <td>PAACPR</td>\n",
       "      <td>9.6%</td>\n",
       "      <td>1.01</td>\n",
       "    </tr>\n",
       "  </tbody>\n",
       "</table>\n",
       "</div>"
      ],
      "text/plain": [
       "                            Strategy                         Stratnames  \\\n",
       "0          Adaptive Asset Allocation          Adaptive Asset Allocation   \n",
       "1        Protective Asset Allocation        Protective Asset Allocation   \n",
       "2   Allocate Smartly's Meta Strategy            Allocate  Meta Strategy   \n",
       "3          Vigilant Asset Allocation          Vigilant Asset Allocation   \n",
       "4  Protective Asset Allocation - CPR  Protective Asset Allocation - CPR   \n",
       "\n",
       "   Symbol AnnualReturn (20Y)  SharpeRatio (20Y)  \n",
       "0  AAA000              13.1%               1.18  \n",
       "1  PAA000              10.1%               1.05  \n",
       "2  AMS000               8.9%               1.05  \n",
       "3  VAA000              14.4%               1.05  \n",
       "4  PAACPR               9.6%               1.01  "
      ]
     },
     "execution_count": 12,
     "metadata": {},
     "output_type": "execute_result"
    }
   ],
   "source": [
    "strategies.to_csv('/home/scubamut/projects/pvautomate/Data/ASstrategies.csv', index=None)\n",
    "strategies[:5]"
   ]
  },
  {
   "cell_type": "markdown",
   "metadata": {},
   "source": [
    "## Generate Benchmark Returns for use by Portfolio Visualizer "
   ]
  },
  {
   "cell_type": "code",
   "execution_count": 13,
   "metadata": {},
   "outputs": [],
   "source": [
    "def update_strategy_data(data_path, strategy, symbol):\n",
    "    \"\"\"\n",
    "    For each strategy, save latest data table from website, \n",
    "    generate csv data to save benchmark with format suitable for\n",
    "    PortfolioVisualizer\n",
    "    \n",
    "    - data_path : windows folder name for data\n",
    "    - symbol : strategy Symbol \n",
    "    - strategy : strategy Name\n",
    "    \n",
    "    \"\"\"\n",
    "    df = pd.read_csv(data_path + 'strategy_returns/' + strategy + '.csv',index_col=[0] ).fillna('0.0%')\n",
    "\n",
    "    df1 = pd.DataFrame(columns=['Period','Return'])\n",
    "    df1 = df1.append({'Period': 'Period', 'Return': 'Return'}, ignore_index=True)\n",
    "    for row in range(0,len(df)):\n",
    "        for column in range(1,13):\n",
    "            year, month, value = df.iloc[row,0], column, df.iloc[row, column]\n",
    "#             period = (datetime.date (year, month, 1) - datetime.timedelta (days = 1)).strftime('%#m/%#d/%Y')\n",
    "            next_month = datetime.date (year, month, 1).replace(day=28) + datetime.timedelta(days=4)  # this will never fail\n",
    "            period = next_month - datetime.timedelta(days=next_month.day)\n",
    "            newline = str(period) + u',' + value\n",
    "            df1 = df1.append({'Period': period, 'Return': value}, ignore_index=True)\n",
    "\n",
    "    df1.to_csv(data_path + 'benchmark_returns/' + symbol.replace('/','_')+'.csv', index=False, header=False, quoting=csv.QUOTE_NONNUMERIC) "
   ]
  },
  {
   "cell_type": "code",
   "execution_count": 14,
   "metadata": {},
   "outputs": [
    {
     "name": "stdout",
     "output_type": "stream",
     "text": [
      "('AAA000', 'Adaptive Asset Allocation')\n",
      "('PAA000', 'Protective Asset Allocation')\n",
      "('AMS000', \"Allocate Smartly's Meta Strategy\")\n",
      "('VAA000', 'Vigilant Asset Allocation')\n",
      "('PAACPR', 'Protective Asset Allocation - CPR')\n",
      "('GPM000', \"Keuning's Generalized Protective Momentum\")\n",
      "('PC0000', \"Varadi's Percentile Channels\")\n",
      "('USRPTF', 'US Risk Parity Trend Following')\n",
      "('FAA000', 'Flexible Asset Allocation')\n",
      "('ACAM00', \"Stoken's Active Combined Asset (ACA) - Monthly\")\n",
      "('CAAD00', 'Classical Asset Allocation - Defensive')\n",
      "('ACA000', \"Stoken's Active Combined Asset (ACA)\")\n",
      "('EI0000', 'Efficiente Index')\n",
      "('EAAD00', 'Elastic Asset Allocation - Defensive')\n",
      "('RAAB00', 'Robust Asset Allocation - Balanced')\n",
      "('GTAAA6', \"Faber's Global Tactical Asset Alloc. - Agg. 6\")\n",
      "('EAAO00', 'Elastic Asset Allocation - Offensive')\n",
      "('GRPTF0', 'Global Risk Parity Trend Following')\n",
      "('MCP000', \"Varadi's Minimum Correlation Portfolio\")\n",
      "('TPL000', \"Faber's Trinity Portfolio Lite\")\n",
      "('CDM000', \"Antonacci's Composite Dual Momentum\")\n",
      "('GTAA13', \"Faber's Global Tactical Asset Alloc. 13 (GTAA 13)\")\n",
      "('GTAA50', \"Faber's Global Tactical Asset Alloc. 5 (GTAA 5)\")\n",
      "('TPP000', 'Tactical Permanent Portfolio')\n",
      "('USMD00', 'US Max Diversification')\n",
      "('GTAAA3', \"Faber's Global Tactical Asset Alloc. - Agg. 3\")\n",
      "('AWP000', \"Dalio's All-Weather Portfolio\")\n",
      "('CAAO00', 'Classical Asset Allocation - Offensive')\n",
      "('GB0000', \"PortfolioCharts' Golden Butterfly\")\n",
      "('USERC0', 'US Equal Risk Contribution')\n",
      "('USMS00', 'US Max Sharpe')\n",
      "('PP0000', \"Browne's Permanent Portfolio\")\n",
      "('GEM000', \"Antonacci's Global Equities Momentum (GEM)\")\n",
      "('USMC00', 'US Min Correlation')\n",
      "('RAAA00', 'Robust Asset Allocation - Aggressive')\n",
      "('PGTT00', \"Philosophical Economics' Growth-Trend Timing\")\n",
      "('PSS000', \"Glenn's Paired Switching Strategy\")\n",
      "('TBS000', \"Novell's Tactical Bond Strategy\")\n",
      "('TWM000', \"Davis' Three Way Model\")\n",
      "('BB6040', '60_40 Benchmark')\n",
      "('SRS000', \"Faber's Sector Relative Strength (Sector RS)\")\n",
      "('IP0000', \"Faber's Ivy Portfolio\")\n"
     ]
    }
   ],
   "source": [
    "data_path = '/home/scubamut/projects/pvautomate/Data/'\n",
    "\n",
    "for n in range(len(strategies)):\n",
    "# for n in [1]:\n",
    "    symbol = strategies.Symbol[n]\n",
    "    strategy = strategies.Strategy[n]\n",
    "    print((symbol, strategy))\n",
    "    update_strategy_data(data_path, strategy, symbol)\n",
    "    \n",
    "#browser.close()"
   ]
  },
  {
   "cell_type": "markdown",
   "metadata": {},
   "source": [
    "# Portfolio Visualizer"
   ]
  },
  {
   "cell_type": "markdown",
   "metadata": {},
   "source": [
    "## Login to PortfolioVisualizer"
   ]
  },
  {
   "cell_type": "code",
   "execution_count": 16,
   "metadata": {},
   "outputs": [],
   "source": [
    "from selenium import webdriver\n",
    "import time\n",
    "\n",
    "browser = webdriver.Chrome(\"/usr/lib/chromium-browser/chromedriver\")\n",
    "# browser = webdriver.Firefox()\n",
    "browser.set_window_position(1,1)\n",
    "# browser.set_window_size(1038, 875)\n",
    "browser.maximize_window()\n",
    "browser.get('https://www.portfoliovisualizer.com/login')\n",
    "time.sleep(2)\n",
    "user = browser.find_element_by_id('username')\n",
    "user.send_keys(os.environ.get('PVNAME'))\n",
    "password = browser.find_element_by_id('password')\n",
    "password.send_keys(os.environ.get('PVPASSWD'))\n",
    "time.sleep(2)\n",
    "login = browser.find_element_by_id('submitButton')\n",
    "login.click()"
   ]
  },
  {
   "cell_type": "markdown",
   "metadata": {},
   "source": [
    "## Navigate to Import Benchmarks"
   ]
  },
  {
   "cell_type": "code",
   "execution_count": 17,
   "metadata": {},
   "outputs": [
    {
     "data": {
      "text/plain": [
       "42"
      ]
     },
     "execution_count": 17,
     "metadata": {},
     "output_type": "execute_result"
    }
   ],
   "source": [
    "len(strategies)"
   ]
  },
  {
   "cell_type": "code",
   "execution_count": 18,
   "metadata": {},
   "outputs": [
    {
     "data": {
      "text/html": [
       "<div>\n",
       "<style scoped>\n",
       "    .dataframe tbody tr th:only-of-type {\n",
       "        vertical-align: middle;\n",
       "    }\n",
       "\n",
       "    .dataframe tbody tr th {\n",
       "        vertical-align: top;\n",
       "    }\n",
       "\n",
       "    .dataframe thead th {\n",
       "        text-align: right;\n",
       "    }\n",
       "</style>\n",
       "<table border=\"1\" class=\"dataframe\">\n",
       "  <thead>\n",
       "    <tr style=\"text-align: right;\">\n",
       "      <th></th>\n",
       "      <th>Strategy</th>\n",
       "      <th>Stratnames</th>\n",
       "      <th>Symbol</th>\n",
       "      <th>AnnualReturn (20Y)</th>\n",
       "      <th>SharpeRatio (20Y)</th>\n",
       "    </tr>\n",
       "  </thead>\n",
       "  <tbody>\n",
       "    <tr>\n",
       "      <th>39</th>\n",
       "      <td>60_40 Benchmark</td>\n",
       "      <td>B6040 Benchmark</td>\n",
       "      <td>BB6040</td>\n",
       "      <td>6.5%</td>\n",
       "      <td>0.54</td>\n",
       "    </tr>\n",
       "    <tr>\n",
       "      <th>40</th>\n",
       "      <td>Faber's Sector Relative Strength (Sector RS)</td>\n",
       "      <td>Sector Relative Strength</td>\n",
       "      <td>SRS000</td>\n",
       "      <td>7.4%</td>\n",
       "      <td>0.47</td>\n",
       "    </tr>\n",
       "    <tr>\n",
       "      <th>41</th>\n",
       "      <td>Faber's Ivy Portfolio</td>\n",
       "      <td>Ivy Portfolio</td>\n",
       "      <td>IP0000</td>\n",
       "      <td>6.9%</td>\n",
       "      <td>0.47</td>\n",
       "    </tr>\n",
       "  </tbody>\n",
       "</table>\n",
       "</div>"
      ],
      "text/plain": [
       "                                        Strategy                  Stratnames  \\\n",
       "39                               60_40 Benchmark             B6040 Benchmark   \n",
       "40  Faber's Sector Relative Strength (Sector RS)   Sector Relative Strength    \n",
       "41                         Faber's Ivy Portfolio               Ivy Portfolio   \n",
       "\n",
       "    Symbol AnnualReturn (20Y)  SharpeRatio (20Y)  \n",
       "39  BB6040               6.5%               0.54  \n",
       "40  SRS000               7.4%               0.47  \n",
       "41  IP0000               6.9%               0.47  "
      ]
     },
     "execution_count": 18,
     "metadata": {},
     "output_type": "execute_result"
    }
   ],
   "source": [
    "strategies[-3:]"
   ]
  },
  {
   "cell_type": "code",
   "execution_count": 19,
   "metadata": {},
   "outputs": [
    {
     "name": "stdout",
     "output_type": "stream",
     "text": [
      "AAA000 Adaptive Asset Allocation\n",
      "PAA000 Protective Asset Allocation\n",
      "AMS000 Allocate Smartly's Meta Strategy\n",
      "VAA000 Vigilant Asset Allocation\n",
      "PAACPR Protective Asset Allocation - CPR\n",
      "GPM000 Keuning's Generalized Protective Momentum\n",
      "PC0000 Varadi's Percentile Channels\n",
      "USRPTF US Risk Parity Trend Following\n",
      "FAA000 Flexible Asset Allocation\n",
      "ACAM00 Stoken's Active Combined Asset (ACA) - Monthly\n",
      "CAAD00 Classical Asset Allocation - Defensive\n",
      "ACA000 Stoken's Active Combined Asset (ACA)\n",
      "EI0000 Efficiente Index\n",
      "EAAD00 Elastic Asset Allocation - Defensive\n",
      "RAAB00 Robust Asset Allocation - Balanced\n",
      "GTAAA6 Faber's Global Tactical Asset Alloc. - Agg. 6\n",
      "EAAO00 Elastic Asset Allocation - Offensive\n",
      "GRPTF0 Global Risk Parity Trend Following\n",
      "MCP000 Varadi's Minimum Correlation Portfolio\n",
      "TPL000 Faber's Trinity Portfolio Lite\n",
      "CDM000 Antonacci's Composite Dual Momentum\n",
      "GTAA13 Faber's Global Tactical Asset Alloc. 13 (GTAA 13)\n",
      "GTAA50 Faber's Global Tactical Asset Alloc. 5 (GTAA 5)\n",
      "TPP000 Tactical Permanent Portfolio\n",
      "USMD00 US Max Diversification\n",
      "GTAAA3 Faber's Global Tactical Asset Alloc. - Agg. 3\n",
      "AWP000 Dalio's All-Weather Portfolio\n",
      "CAAO00 Classical Asset Allocation - Offensive\n",
      "GB0000 PortfolioCharts' Golden Butterfly\n",
      "USERC0 US Equal Risk Contribution\n",
      "USMS00 US Max Sharpe\n",
      "PP0000 Browne's Permanent Portfolio\n",
      "GEM000 Antonacci's Global Equities Momentum (GEM)\n",
      "USMC00 US Min Correlation\n",
      "RAAA00 Robust Asset Allocation - Aggressive\n",
      "PGTT00 Philosophical Economics' Growth-Trend Timing\n",
      "PSS000 Glenn's Paired Switching Strategy\n",
      "TBS000 Novell's Tactical Bond Strategy\n",
      "TWM000 Davis' Three Way Model\n",
      "BB6040 60_40 Benchmark\n",
      "SRS000 Faber's Sector Relative Strength (Sector RS)\n",
      "IP0000 Faber's Ivy Portfolio\n"
     ]
    }
   ],
   "source": [
    "data_path = '/home/scubamut/projects/pvautomate/Data/benchmark_returns/'\n",
    "\n",
    "browser.get('https://www.portfoliovisualizer.com/preferences#import')\n",
    "\n",
    "for n in range(len(strategies)):\n",
    "# for n in [1]:\n",
    "    \n",
    "    symbol = strategies.Symbol[n]\n",
    "    strategy = strategies.Strategy[n]\n",
    "    print (symbol, strategy)\n",
    "    \n",
    "    browser.maximize_window()\n",
    "    \n",
    "    browser.find_element_by_id(\"benchmarkName\").clear()\n",
    "    browser.find_element_by_id(\"benchmarkName\").send_keys(strategy)\n",
    "    \n",
    "    browser.find_element_by_id(\"upload\").clear()\n",
    "    browser.find_element_by_id(\"upload\").send_keys(data_path + symbol +'.csv')\n",
    "    \n",
    "    browser.find_element_by_id('percentageValues_chosen').click()\n",
    "    browser.find_element_by_xpath('//*[@id=\"percentageValues_chosen\"]/div/ul/li[2]').click()\n",
    "\n",
    "    browser.find_element_by_id(\"benchmarkSymbol\").clear()\n",
    "    browser.find_element_by_id(\"benchmarkSymbol\").send_keys(symbol)\n",
    "\n",
    "    browser.find_element_by_id('benchmarkAssetClass_chosen').click()\n",
    "#     browser.find_element_by_xpath('//*[@id=\"benchmarkAssetClass_chosen\"]/div/ul/li[2]').click()\n",
    "    browser.find_element_by_css_selector('#benchmarkAssetClass_chosen > div > ul > li:nth-child(2)').click()\n",
    "    browser.implicitly_wait(90)\n",
    "    browser.find_element_by_id(\"importBenchmarkButton\").click()\n",
    "\n",
    "    browser.execute_script(\"window.history.go(-1)\")\n",
    "    time.sleep(2)\n",
    "    \n",
    "browser.close()"
   ]
  },
  {
   "cell_type": "code",
   "execution_count": null,
   "metadata": {
    "collapsed": true
   },
   "outputs": [],
   "source": [
    "# REMEMBER THAT THE LAST MONTH MAY BE INCOMPLETE!!"
   ]
  }
 ],
 "metadata": {
  "kernelspec": {
   "display_name": "Python 3",
   "language": "python",
   "name": "python3"
  },
  "language_info": {
   "codemirror_mode": {
    "name": "ipython",
    "version": 3
   },
   "file_extension": ".py",
   "mimetype": "text/x-python",
   "name": "python",
   "nbconvert_exporter": "python",
   "pygments_lexer": "ipython3",
   "version": "3.6.5"
  },
  "toc": {
   "colors": {
    "hover_highlight": "#DAA520",
    "navigate_num": "#000000",
    "navigate_text": "#333333",
    "running_highlight": "#FF0000",
    "selected_highlight": "#FFD700",
    "sidebar_border": "#EEEEEE",
    "wrapper_background": "#FFFFFF"
   },
   "moveMenuLeft": true,
   "nav_menu": {
    "height": "227px",
    "width": "252px"
   },
   "navigate_menu": true,
   "number_sections": true,
   "sideBar": true,
   "threshold": 4,
   "toc_cell": false,
   "toc_section_display": "block",
   "toc_window_display": false,
   "widenNotebook": false
  }
 },
 "nbformat": 4,
 "nbformat_minor": 2
}
